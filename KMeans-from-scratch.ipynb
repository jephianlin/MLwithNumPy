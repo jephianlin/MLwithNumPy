{
 "cells": [
  {
   "cell_type": "markdown",
   "metadata": {},
   "source": [
    "# KMeans from scratch"
   ]
  },
  {
   "cell_type": "markdown",
   "metadata": {},
   "source": [
    "![Creative Commons License](https://i.creativecommons.org/l/by/4.0/88x31.png)  \n",
    "This work by Jephian Lin is licensed under a [Creative Commons Attribution 4.0 International License](http://creativecommons.org/licenses/by/4.0/)."
   ]
  },
  {
   "cell_type": "code",
   "execution_count": null,
   "metadata": {},
   "outputs": [],
   "source": [
    "import numpy as np\n",
    "import matplotlib.pyplot as plt"
   ]
  },
  {
   "cell_type": "markdown",
   "metadata": {},
   "source": [
    "## Algorithm\n",
    "**Input:**  \n",
    "- `X` (whose `N` rows are samples and `d` columns are features)\n",
    "- `k`: number of clusters\n",
    "- `init`: \"random\" or an array of shape (k,d)  \n",
    "if \"random\", `k` points are chosen randomly from X as the initial cluster centers  \n",
    "if an array, the array is used as the initial cluster centers\n",
    "\n",
    "**Output:**  \n",
    "A tuple `(y_new, centers)`.  \n",
    "- `y_new`: an array of shape `(N,)` that records the labels in `(0, ..., k-1)` of each sample \n",
    "- `centers`: an array of shape `(k,d)` that records the cluster centers\n",
    "\n",
    "**Steps:**\n",
    "1. Initialize a collection of centers $\\mu_0,\\ldots,\\mu_{k-1}$:  \n",
    "    - if `init` is an array, the centers are the rows of `init` . \n",
    "    - if `init==\"random\"`, the centers are chosen as `k` random rows of `X` .  \n",
    "2. Label each sample ${\\bf x}_i$ by $j$ if $\\mu_j$ is the closed center to ${\\bf x}_i$.\n",
    "3. Call the points with label $j$ as group $j$.  Update $\\mu_j$ as the center of points in group $j$.  \n",
    "4. Repeat Steps 2 and 3 until `y_new` do not change anymore."
   ]
  },
  {
   "cell_type": "markdown",
   "metadata": {},
   "source": [
    "## Pseudocode\n",
    "Translate the algorithm into the pseudocode.  \n",
    "This helps you to identify the parts that you don't know how to do it.  "
   ]
  },
  {
   "cell_type": "markdown",
   "metadata": {},
   "source": [
    "    1. \n",
    "    2. \n",
    "    3. ..."
   ]
  },
  {
   "cell_type": "markdown",
   "metadata": {},
   "source": [
    "## Code"
   ]
  },
  {
   "cell_type": "code",
   "execution_count": null,
   "metadata": {},
   "outputs": [],
   "source": [
    "### your answer here"
   ]
  },
  {
   "cell_type": "markdown",
   "metadata": {},
   "source": [
    "## Test\n",
    "Take some sample data from [MDS-with-scikit-learn](MDS-with-scikit-learn.ipynb) and check if your code generates similar outputs with the existing packages."
   ]
  },
  {
   "cell_type": "markdown",
   "metadata": {},
   "source": [
    "##### Name of the data\n",
    "Description of the data."
   ]
  },
  {
   "cell_type": "code",
   "execution_count": null,
   "metadata": {},
   "outputs": [],
   "source": [
    "### results with your code"
   ]
  },
  {
   "cell_type": "code",
   "execution_count": null,
   "metadata": {},
   "outputs": [],
   "source": [
    "### results with existing packages"
   ]
  },
  {
   "cell_type": "markdown",
   "metadata": {},
   "source": [
    "## Comparison"
   ]
  },
  {
   "cell_type": "markdown",
   "metadata": {},
   "source": [
    "##### Exercise 1\n",
    "Modify your code so that it prints the inertia at each iteration.  \n",
    "Is it decreasing?"
   ]
  },
  {
   "cell_type": "code",
   "execution_count": null,
   "metadata": {},
   "outputs": [],
   "source": [
    "### your answer here"
   ]
  },
  {
   "cell_type": "markdown",
   "metadata": {},
   "source": [
    "##### Exercise 2\n",
    "Let  \n",
    "```python\n",
    "from sklearn.datasets import load_iris\n",
    "iris = load_iris()\n",
    "X = iris.data\n",
    "y_iris = iris.target\n",
    "```"
   ]
  },
  {
   "cell_type": "markdown",
   "metadata": {},
   "source": [
    "###### 2(a)\n",
    "Use your function to apply the $k$-means algorithm with $k=3$.  \n",
    "What is the inertia?  \n",
    "Run it several times to see if the results are always the same.  "
   ]
  },
  {
   "cell_type": "code",
   "execution_count": null,
   "metadata": {},
   "outputs": [],
   "source": [
    "### your answer here"
   ]
  },
  {
   "cell_type": "markdown",
   "metadata": {},
   "source": [
    "###### 2(b)\n",
    "Use `sklearn.cluster.KMeans` to apply the $k$-means algorithm with $k=3$.  \n",
    "What is the inertia?  \n",
    "Run it several times to see if the results are always the same.  "
   ]
  },
  {
   "cell_type": "code",
   "execution_count": null,
   "metadata": {},
   "outputs": [],
   "source": [
    "### your answer here"
   ]
  },
  {
   "cell_type": "markdown",
   "metadata": {},
   "source": [
    "###### 2(c)\n",
    "Pick a label `labels` that you like.  \n",
    "Compute the cluster centers of `X` corresponding to `labels` .  \n",
    "Is this inertia bigger or smaller than the previous two answers?"
   ]
  },
  {
   "cell_type": "code",
   "execution_count": null,
   "metadata": {},
   "outputs": [],
   "source": [
    "### your answer here"
   ]
  },
  {
   "cell_type": "markdown",
   "metadata": {},
   "source": [
    "###### 2(d)\n",
    "The label `y_iris` is the \"correct\" real-world answer.  \n",
    "Compute the cluster centers and the inertia.  \n",
    "Is this inertia bigger or smaller than the answers in 2(a) and 2(b)?"
   ]
  },
  {
   "cell_type": "code",
   "execution_count": null,
   "metadata": {},
   "outputs": [],
   "source": [
    "### your answer here"
   ]
  },
  {
   "cell_type": "markdown",
   "metadata": {},
   "source": [
    "##### Exercise 3\n",
    "The $k$-means algorithm is a deterministic algorithm once the initial cluster centers have been determined.  \n",
    "Therefore, your function and `sklearn.cluster.KMeans` should obtain the same result when `init` is given.  \n",
    "Check if this is true.  \n",
    "\n",
    "Note:  There are still many subtle differences, for example, `sklearn` uses the location of centers to test the convergence but our algorithm uses the label to test the convergence."
   ]
  },
  {
   "cell_type": "code",
   "execution_count": null,
   "metadata": {},
   "outputs": [],
   "source": [
    "### your answer here"
   ]
  }
 ],
 "metadata": {
  "kernelspec": {
   "display_name": "Python 3",
   "language": "python",
   "name": "python3"
  },
  "language_info": {
   "codemirror_mode": {
    "name": "ipython",
    "version": 3
   },
   "file_extension": ".py",
   "mimetype": "text/x-python",
   "name": "python",
   "nbconvert_exporter": "python",
   "pygments_lexer": "ipython3",
   "version": "3.9.1"
  }
 },
 "nbformat": 4,
 "nbformat_minor": 4
}
