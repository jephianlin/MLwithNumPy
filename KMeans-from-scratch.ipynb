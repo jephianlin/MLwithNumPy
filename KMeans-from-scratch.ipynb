{
 "cells": [
  {
   "cell_type": "markdown",
   "metadata": {},
   "source": [
    "# KMeans from scratch"
   ]
  },
  {
   "cell_type": "markdown",
   "metadata": {},
   "source": [
    "![Creative Commons License](https://i.creativecommons.org/l/by/4.0/88x31.png)  \n",
    "This work by Jephian Lin is licensed under a [Creative Commons Attribution 4.0 International License](http://creativecommons.org/licenses/by/4.0/)."
   ]
  },
  {
   "cell_type": "code",
   "execution_count": null,
   "metadata": {},
   "outputs": [],
   "source": [
    "import numpy as np\n",
    "import matplotlib.pyplot as plt"
   ]
  },
  {
   "cell_type": "markdown",
   "metadata": {},
   "source": [
    "## Algorithm\n",
    "**Input:**  \n",
    "- `X` (whose `N` rows are samples and `d` columns are features)\n",
    "- `k`: number of clusters\n",
    "- `init`: \"random\" or an array of shape (k,d)  \n",
    "if \"random\", `k` points are chosen randomly from X as the initial cluster centers  \n",
    "if an array, the array is used as the initial cluster centers\n",
    "\n",
    "**Output:**  \n",
    "A tuple `(y_new, centers)`.  \n",
    "- `y_new`: an array of shape `(N,)` that records the labels in `(0, ..., k-1)` of each sample \n",
    "- `centers`: an array of shape `(k,d)` that records the cluster centers\n",
    "\n",
    "**Steps:**\n",
    "1. Initialize a collection of centers $\\mu_0,\\ldots,\\mu_{k-1}$:  \n",
    "    - if `init` is an array, the centers are the rows of `init` . \n",
    "    - if `init==\"random\"`, the centers are chosen as `k` random rows of `X` .  \n",
    "2. Label each sample ${\\bf x}_i$ by $j$ if $\\mu_j$ is the closed center to ${\\bf x}_i$.\n",
    "3. Call the points with label $j$ as group $j$.  Update $\\mu_j$ as the center of points in group $j$.  \n",
    "4. Repeat Steps 2 and 3 until `y_new` do not change anymore."
   ]
  },
  {
   "cell_type": "markdown",
   "metadata": {},
   "source": [
    "## Pseudocode\n",
    "Translate the algorithm into the pseudocode.  \n",
    "This helps you to identify the parts that you don't know how to do it.  "
   ]
  },
  {
   "cell_type": "markdown",
   "metadata": {},
   "source": [
    "    1. \n",
    "    2. \n",
    "    3. ..."
   ]
  },
  {
   "cell_type": "markdown",
   "metadata": {},
   "source": [
    "## Code"
   ]
  },
  {
   "cell_type": "code",
   "execution_count": null,
   "metadata": {},
   "outputs": [],
   "source": [
    "### your answer here"
   ]
  },
  {
   "cell_type": "markdown",
   "metadata": {},
   "source": [
    "## Test\n",
    "Take some sample data from [MDS-with-scikit-learn](MDS-with-scikit-learn.ipynb) and check if your code generates similar outputs with the existing packages."
   ]
  },
  {
   "cell_type": "markdown",
   "metadata": {},
   "source": [
    "##### Name of the data\n",
    "Description of the data."
   ]
  },
  {
   "cell_type": "code",
   "execution_count": null,
   "metadata": {},
   "outputs": [],
   "source": [
    "### results with your code"
   ]
  },
  {
   "cell_type": "code",
   "execution_count": null,
   "metadata": {},
   "outputs": [],
   "source": [
    "### results with existing packages"
   ]
  },
  {
   "cell_type": "markdown",
   "metadata": {},
   "source": [
    "## Comparison"
   ]
  },
  {
   "cell_type": "markdown",
   "metadata": {},
   "source": [
    "##### Exercise 1\n",
    "Try to turn `verbose=2` .  \n",
    "Check if the stress is decreasing."
   ]
  },
  {
   "cell_type": "code",
   "execution_count": null,
   "metadata": {},
   "outputs": [],
   "source": [
    "### your answer here"
   ]
  },
  {
   "cell_type": "markdown",
   "metadata": {},
   "source": [
    "##### Exercise 2\n",
    "Let  \n",
    "```python\n",
    "import scipy.linalg as LA\n",
    "arr = np.random.randn(10,10)\n",
    "Q,R = LA.qr(arr)\n",
    "```\n",
    "Let $X_k$ be the output of applying your MDS function to the `hidden_text.csv` data with `r=2` .  \n",
    "Plot the points (rows) in $X_k$.  \n",
    "Plot the points (rows) in $X_kQ$.  \n",
    "Compute the stress of $X_k$ and the stress of $X_kQ$.   \n",
    "(Some rotation do not change the stress.)"
   ]
  },
  {
   "cell_type": "code",
   "execution_count": null,
   "metadata": {},
   "outputs": [],
   "source": [
    "### your answer here"
   ]
  },
  {
   "cell_type": "markdown",
   "metadata": {},
   "source": [
    "##### Exercise 3\n",
    "Apply your MDS function to the `hidden_text.csv` data with `r=2` .  \n",
    "How low can the stress be?"
   ]
  },
  {
   "cell_type": "code",
   "execution_count": null,
   "metadata": {},
   "outputs": [],
   "source": [
    "### your answer here"
   ]
  }
 ],
 "metadata": {
  "kernelspec": {
   "display_name": "Python 3",
   "language": "python",
   "name": "python3"
  },
  "language_info": {
   "codemirror_mode": {
    "name": "ipython",
    "version": 3
   },
   "file_extension": ".py",
   "mimetype": "text/x-python",
   "name": "python",
   "nbconvert_exporter": "python",
   "pygments_lexer": "ipython3",
   "version": "3.9.1"
  }
 },
 "nbformat": 4,
 "nbformat_minor": 4
}
