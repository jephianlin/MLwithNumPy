{
 "cells": [
  {
   "cell_type": "markdown",
   "metadata": {},
   "source": [
    "# KMeans with scikit learn"
   ]
  },
  {
   "cell_type": "markdown",
   "metadata": {},
   "source": [
    "![Creative Commons License](https://i.creativecommons.org/l/by/4.0/88x31.png)  \n",
    "This work by Jephian Lin is licensed under a [Creative Commons Attribution 4.0 International License](http://creativecommons.org/licenses/by/4.0/)."
   ]
  },
  {
   "cell_type": "code",
   "execution_count": 3,
   "metadata": {},
   "outputs": [],
   "source": [
    "import numpy as np\n",
    "import matplotlib.pyplot as plt"
   ]
  },
  {
   "cell_type": "markdown",
   "metadata": {},
   "source": [
    "## Code\n",
    "```python\n",
    "from sklearn.cluster import KMeans\n",
    "model = KMeans(<parameters>)\n",
    "y_new = model.fit_predict(X)\n",
    "```\n",
    "\n",
    "[Official Reference](https://scikit-learn.org/stable/modules/generated/sklearn.cluster.KMeans.html)"
   ]
  },
  {
   "cell_type": "markdown",
   "metadata": {},
   "source": [
    "## Parameters\n",
    "- `n_clusters`: number of clusters\n",
    "- `init`: `\"k-means++\"`, `\"random\"`, or an array of shape `(n_clusters, n_features)`\n",
    "- `n_init`: the function will run the $k$-means algorithm `n_init` times to get a best performance\n",
    "- `algorithm`: `\"full\"` or `\"elkan\"`"
   ]
  },
  {
   "cell_type": "markdown",
   "metadata": {},
   "source": [
    "## Attributes\n",
    "- `cluster_centers_`: an array of shape `(n_clusters, n_features)` whose rows are the cluster centers\n",
    "- `labels_`: labels of each point, the predict of the original data\n",
    "- `inertia_`: $\\sum_{i,j} \\|{\\bf x}_i - \\mu_j\\|^2$ where the summation runs through all pairs $(i,j)$ such that ${\\bf x}_i$ is in the $j$-th cluster with center $\\mu_j$."
   ]
  },
  {
   "cell_type": "markdown",
   "metadata": {},
   "source": [
    "## Sample data"
   ]
  },
  {
   "cell_type": "markdown",
   "metadata": {},
   "source": [
    "##### Exercise 1\n",
    "Let  \n",
    "```python\n",
    "mu = np.array([3,4])\n",
    "cov = np.array([[1.1,1],\n",
    "                [1,1.1]])\n",
    "X = np.random.multivariate_normal(mu, cov, 100)\n",
    "```\n",
    "Let `X_new` be the result of MDS on `X` ."
   ]
  },
  {
   "cell_type": "markdown",
   "metadata": {},
   "source": [
    "###### 1(a)\n",
    "Plot points (rows) in `X` .  \n",
    "Plot points (rows) in `X_new` .  "
   ]
  },
  {
   "cell_type": "code",
   "execution_count": null,
   "metadata": {},
   "outputs": [],
   "source": [
    "### your answer here"
   ]
  },
  {
   "cell_type": "markdown",
   "metadata": {},
   "source": [
    "##### 1(b)\n",
    "Obtain `X_new` several times and redo 1(a).  \n",
    "Is the results all similar or it can be quite different?"
   ]
  },
  {
   "cell_type": "code",
   "execution_count": null,
   "metadata": {},
   "outputs": [],
   "source": [
    "### your answer here"
   ]
  },
  {
   "cell_type": "markdown",
   "metadata": {},
   "source": [
    "##### Exercise 2\n",
    "Let  \n",
    "```python\n",
    "X = np.genfromtxt('hidden_text.csv', delimiter=',')\n",
    "```\n",
    "This data has all its points lie in a two-dimensional plane embedded in a much higher dimension.  \n",
    "Can you find out what does this data say?"
   ]
  },
  {
   "cell_type": "code",
   "execution_count": null,
   "metadata": {},
   "outputs": [],
   "source": [
    "### your answer here"
   ]
  },
  {
   "cell_type": "markdown",
   "metadata": {},
   "source": [
    "##### Exercise 3\n",
    "Let  \n",
    "```python\n",
    "from sklearn.datasets import load_digits\n",
    "digits = load_digits()\n",
    "X = digits.data\n",
    "y = digits.target\n",
    "```"
   ]
  },
  {
   "cell_type": "markdown",
   "metadata": {},
   "source": [
    "###### 3(a)\n",
    "Let `X_new` be the result of applying MDS to `X` with `n_components=2` .  \n",
    "Plot the points (rows) in `X_new` with `c=y` .  \n",
    "Print `model.stress_` ."
   ]
  },
  {
   "cell_type": "code",
   "execution_count": null,
   "metadata": {},
   "outputs": [],
   "source": [
    "### your answer here"
   ]
  },
  {
   "cell_type": "markdown",
   "metadata": {},
   "source": [
    "###### 3(b)\n",
    "Let `X_new` be the result of applying MDS to `X` with `n_components=3` .  \n",
    "Plot the points (rows) in `X_new` with `c=y` .  \n",
    "Print `model.stress_` .  \n",
    "Is is lower than what you did with in 3(a)?"
   ]
  },
  {
   "cell_type": "code",
   "execution_count": null,
   "metadata": {},
   "outputs": [],
   "source": [
    "### your answer here"
   ]
  },
  {
   "cell_type": "markdown",
   "metadata": {},
   "source": [
    "##### Exercise 4\n",
    "For the following `precom`, input it as the precomputed dissimilarity and obtain `X_new` .  \n",
    "Try to guess the answer beforehand."
   ]
  },
  {
   "cell_type": "markdown",
   "metadata": {},
   "source": [
    "###### 4(a)\n",
    "Let  \n",
    "```python\n",
    "precom = np.array([[0,1,1],\n",
    "                   [1,0,1],\n",
    "                   [1,1,0]])\n",
    "```\n",
    "Apply MDS with `n_components=2` .  \n",
    "Plot the points (rows) in `X_new` ."
   ]
  },
  {
   "cell_type": "code",
   "execution_count": null,
   "metadata": {},
   "outputs": [],
   "source": [
    "### your answer here"
   ]
  },
  {
   "cell_type": "markdown",
   "metadata": {},
   "source": [
    "###### 4(b)\n",
    "Let  \n",
    "```python\n",
    "precom = np.array([[0,1,1,1],\n",
    "                   [1,0,1,1],\n",
    "                   [1,1,0,1],\n",
    "                   [1,1,1,0]])\n",
    "```\n",
    "Apply MDS with `n_components=2` .  \n",
    "Plot the points (rows) in `X_new` ."
   ]
  },
  {
   "cell_type": "code",
   "execution_count": null,
   "metadata": {},
   "outputs": [],
   "source": [
    "### your answer here"
   ]
  },
  {
   "cell_type": "markdown",
   "metadata": {},
   "source": [
    "###### 4(c)\n",
    "Let  \n",
    "```python\n",
    "precom = np.array([[0,1,1,1],\n",
    "                   [1,0,1,1],\n",
    "                   [1,1,0,1],\n",
    "                   [1,1,1,0]])\n",
    "```\n",
    "Apply MDS with `n_components=3` .  \n",
    "Plot the points (rows) in `X_new` ."
   ]
  },
  {
   "cell_type": "code",
   "execution_count": null,
   "metadata": {},
   "outputs": [],
   "source": [
    "### your answer here"
   ]
  },
  {
   "cell_type": "markdown",
   "metadata": {},
   "source": [
    "###### 4(d)\n",
    "Let  \n",
    "```python\n",
    "precom = np.array([[0,1,2,1,1,2,3,2],\n",
    "                   [1,0,1,2,2,1,2,3],\n",
    "                   [2,1,0,1,3,2,1,2],\n",
    "                   [1,2,1,0,2,3,2,1],\n",
    "                   [1,2,3,2,0,1,2,1],\n",
    "                   [2,1,2,3,1,0,1,2],\n",
    "                   [3,2,1,2,2,1,0,1],\n",
    "                   [2,3,2,1,1,2,1,0]])\n",
    "precom = np.sqrt(precom)\n",
    "```\n",
    "Apply MDS with `n_components=2` .  \n",
    "Plot the points (rows) in `X_new` .  "
   ]
  },
  {
   "cell_type": "code",
   "execution_count": null,
   "metadata": {},
   "outputs": [],
   "source": [
    "### your answer here"
   ]
  },
  {
   "cell_type": "markdown",
   "metadata": {},
   "source": [
    "###### 4(e)\n",
    "Let  \n",
    "```python\n",
    "precom = np.array([[0,1,2,1,1,2,3,2],\n",
    "                   [1,0,1,2,2,1,2,3],\n",
    "                   [2,1,0,1,3,2,1,2],\n",
    "                   [1,2,1,0,2,3,2,1],\n",
    "                   [1,2,3,2,0,1,2,1],\n",
    "                   [2,1,2,3,1,0,1,2],\n",
    "                   [3,2,1,2,2,1,0,1],\n",
    "                   [2,3,2,1,1,2,1,0]])\n",
    "precom = np.sqrt(precom)\n",
    "```\n",
    "Apply MDS with `n_components=3` .  \n",
    "Plot the points (rows) in `X_new` .  "
   ]
  },
  {
   "cell_type": "code",
   "execution_count": null,
   "metadata": {},
   "outputs": [],
   "source": [
    "### your answer here"
   ]
  },
  {
   "cell_type": "markdown",
   "metadata": {},
   "source": [
    "## Experiments"
   ]
  },
  {
   "cell_type": "markdown",
   "metadata": {},
   "source": [
    "##### Exercise 5\n",
    "Let  \n",
    "```python\n",
    "mu = np.array([3,4])\n",
    "cov = np.array([[1.1,1],\n",
    "                [1,1.1]])\n",
    "X = np.random.multivariate_normal(mu, cov, 100)\n",
    "\n",
    "model = MDS(2)\n",
    "X_new = model.fit_transform(X)\n",
    "```"
   ]
  },
  {
   "cell_type": "markdown",
   "metadata": {},
   "source": [
    "###### 5(a)\n",
    "Print `X_new` and `model.embedding_` and check if they are the same."
   ]
  },
  {
   "cell_type": "code",
   "execution_count": null,
   "metadata": {},
   "outputs": [],
   "source": [
    "### your answer here"
   ]
  },
  {
   "cell_type": "markdown",
   "metadata": {},
   "source": [
    "###### 5(b)\n",
    "Calculate the distance matrix `dist` between the rows of `X` and the rows of `X` .  \n",
    "Compare `dist` and `model.dissimilarity_matrix_` and check if they are the same.  "
   ]
  },
  {
   "cell_type": "code",
   "execution_count": null,
   "metadata": {},
   "outputs": [],
   "source": [
    "### your answer here"
   ]
  },
  {
   "cell_type": "markdown",
   "metadata": {},
   "source": [
    "###### 5(c)\n",
    "Calculate the distance matrix `dist_new` between the rows of `X_new` and the rows of `X_new` ."
   ]
  },
  {
   "cell_type": "code",
   "execution_count": null,
   "metadata": {},
   "outputs": [],
   "source": [
    "### your answer here"
   ]
  },
  {
   "cell_type": "markdown",
   "metadata": {},
   "source": [
    "###### 5(d)\n",
    "Calculate the stress $\\sum_{i<j}(d_{ij}(X_{\\rm new})^2 - \\delta_{ij})^2$ and compare it with `model.stress_` .  "
   ]
  },
  {
   "cell_type": "code",
   "execution_count": null,
   "metadata": {},
   "outputs": [],
   "source": [
    "### your answer here"
   ]
  },
  {
   "cell_type": "markdown",
   "metadata": {},
   "source": [
    "#### Remark\n",
    "It seems that `model.stress_` is always slightly higher than the stress you found by $X_{\\rm new}$.  \n",
    "You may check the code by running:  \n",
    "```python\n",
    "from sklearn.manifold import _mds\n",
    "_mds._smacof_single??\n",
    "```\n",
    "In the `for` loop, the stress is computed for $X=X_k$ and then $X$ is updated by $X_{k+1}$.  \n",
    "The code returns the stress of $X_k$ and the embedding $X_{k+1}$, which has lower stress.  \n",
    "This seems a bug."
   ]
  }
 ],
 "metadata": {
  "kernelspec": {
   "display_name": "Python 3",
   "language": "python",
   "name": "python3"
  },
  "language_info": {
   "codemirror_mode": {
    "name": "ipython",
    "version": 3
   },
   "file_extension": ".py",
   "mimetype": "text/x-python",
   "name": "python",
   "nbconvert_exporter": "python",
   "pygments_lexer": "ipython3",
   "version": "3.9.1"
  }
 },
 "nbformat": 4,
 "nbformat_minor": 4
}
