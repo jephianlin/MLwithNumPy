{
 "cells": [
  {
   "cell_type": "markdown",
   "metadata": {},
   "source": [
    "# MDS from scratch"
   ]
  },
  {
   "cell_type": "markdown",
   "metadata": {},
   "source": [
    "![Creative Commons License](https://i.creativecommons.org/l/by/4.0/88x31.png)  \n",
    "This work by Jephian Lin is licensed under a [Creative Commons Attribution 4.0 International License](http://creativecommons.org/licenses/by/4.0/)."
   ]
  },
  {
   "cell_type": "code",
   "execution_count": null,
   "metadata": {},
   "outputs": [],
   "source": [
    "import numpy as np\n",
    "import matplotlib.pyplot as plt"
   ]
  },
  {
   "cell_type": "markdown",
   "metadata": {},
   "source": [
    "## Algorithm\n",
    "**Input:**  \n",
    "- `X`: an array of shape `(N,d)` whose rows are samples and columns are features\n",
    "- `r`: target dimension\n",
    "- `n_iter=100`: number of iterations\n",
    "- `verbose=0`: verbose level;  \n",
    "if 0, say nothing;  \n",
    "if 2, print the stress of each iteration.\n",
    "\n",
    "**Output:**\n",
    "- an array of shape `(N, r)`  \n",
    "\n",
    "**Steps:**\n",
    "1. Compute the distance matrix `goal` $=\\begin{bmatrix}\\delta_{ij}\\end{bmatrix}$, where $\\delta_{ij}$ is the distance between the $i$-th row and the $j$-th row of $X$.\n",
    "2. Let $X_0$ be a random array of shape `(N, r)` .  \n",
    "3. Let $d_{ij}(X_k)$ is the distance between the $i$-th row and the $j$-th row of $X_k$.  \n",
    "Let $s_{ij}(X_k)$ be $-1/d_{ij}(X_k)$ if $d_{ij}(X_k)\\neq 0$ and $0$ if $d_{ij}(X_k)= 0$.\n",
    "3. Let $B(X_k)=\\begin{bmatrix}\\delta_{ij}s_{ij}(X_k)\\end{bmatrix}$ and set the diagonal entries of $B$ so that $B$ has zero row sums.\n",
    "3. Let $X_{k+1} = \\frac{1}{N}B(X_k)X_k$.\n",
    "4. Return $X_k$ with $k =$ `n_iter` ."
   ]
  },
  {
   "cell_type": "markdown",
   "metadata": {},
   "source": [
    "## Pseudocode\n",
    "Translate the algorithm into the pseudocode.  \n",
    "This helps you to identify the parts that you don't know how to do it.  "
   ]
  },
  {
   "cell_type": "markdown",
   "metadata": {},
   "source": [
    "    1. \n",
    "    2. \n",
    "    3. ..."
   ]
  },
  {
   "cell_type": "markdown",
   "metadata": {},
   "source": [
    "## Code"
   ]
  },
  {
   "cell_type": "code",
   "execution_count": null,
   "metadata": {},
   "outputs": [],
   "source": [
    "### your answer here"
   ]
  },
  {
   "cell_type": "markdown",
   "metadata": {},
   "source": [
    "## Test\n",
    "Take some sample data from [MDS-with-scikit-learn](MDS-with-scikit-learn.ipynb) and check if your code generates similar outputs with the existing packages."
   ]
  },
  {
   "cell_type": "markdown",
   "metadata": {},
   "source": [
    "##### Name of the data\n",
    "Description of the data."
   ]
  },
  {
   "cell_type": "code",
   "execution_count": null,
   "metadata": {},
   "outputs": [],
   "source": [
    "### results with your code"
   ]
  },
  {
   "cell_type": "code",
   "execution_count": null,
   "metadata": {},
   "outputs": [],
   "source": [
    "### results with existing packages"
   ]
  },
  {
   "cell_type": "markdown",
   "metadata": {},
   "source": [
    "## Comparison"
   ]
  },
  {
   "cell_type": "markdown",
   "metadata": {},
   "source": [
    "##### Exercise 1\n",
    "Try to turn `verbose=2` .  \n",
    "Check if the stress is decreasing."
   ]
  },
  {
   "cell_type": "code",
   "execution_count": null,
   "metadata": {},
   "outputs": [],
   "source": [
    "### your answer here"
   ]
  },
  {
   "cell_type": "markdown",
   "metadata": {},
   "source": [
    "##### Exercise 2\n",
    "Let  \n",
    "```python\n",
    "import scipy.linalg as LA\n",
    "arr = np.random.randn(10,10)\n",
    "Q,R = LA.qr(arr)\n",
    "```\n",
    "Let $X_k$ be the output of applying your MDS function to the `hidden_text.csv` data with `r=2` .  \n",
    "Plot the points (rows) in $X_k$.  \n",
    "Plot the points (rows) in $X_kQ$.  \n",
    "Compute the stress of $X_k$ and the stress of $X_kQ$.   \n",
    "(Some rotation do not change the stress.)"
   ]
  },
  {
   "cell_type": "code",
   "execution_count": null,
   "metadata": {},
   "outputs": [],
   "source": [
    "### your answer here"
   ]
  },
  {
   "cell_type": "markdown",
   "metadata": {},
   "source": [
    "##### Exercise 3\n",
    "Apply your MDS function to the `hidden_text.csv` data with `r=2` .  \n",
    "How low can the stress be?"
   ]
  },
  {
   "cell_type": "code",
   "execution_count": null,
   "metadata": {},
   "outputs": [],
   "source": [
    "### your answer here"
   ]
  }
 ],
 "metadata": {
  "kernelspec": {
   "display_name": "Python 3",
   "language": "python",
   "name": "python3"
  },
  "language_info": {
   "codemirror_mode": {
    "name": "ipython",
    "version": 3
   },
   "file_extension": ".py",
   "mimetype": "text/x-python",
   "name": "python",
   "nbconvert_exporter": "python",
   "pygments_lexer": "ipython3",
   "version": "3.9.1"
  }
 },
 "nbformat": 4,
 "nbformat_minor": 4
}
